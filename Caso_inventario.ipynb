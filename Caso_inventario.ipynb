{
 "cells": [
  {
   "cell_type": "markdown",
   "metadata": {},
   "source": [
    "Librerías"
   ]
  },
  {
   "cell_type": "code",
   "execution_count": 1,
   "metadata": {},
   "outputs": [],
   "source": [
    "import pandas as pd\n",
    "import numpy as np"
   ]
  },
  {
   "cell_type": "markdown",
   "metadata": {},
   "source": [
    "Carga de datos"
   ]
  },
  {
   "cell_type": "code",
   "execution_count": 2,
   "metadata": {},
   "outputs": [],
   "source": [
    "clientes = pd.read_csv('cliente_tabla.csv')\n",
    "productos = pd.read_csv('producto_tabla.csv')\n",
    "sample_submission = pd.read_csv('sample_submission.csv')\n",
    "test  = pd.read_csv('test.csv')\n",
    "town_state  = pd.read_csv('town_state.csv')"
   ]
  },
  {
   "cell_type": "code",
   "execution_count": 3,
   "metadata": {},
   "outputs": [],
   "source": [
    "train = pd.read_csv('train.csv')"
   ]
  },
  {
   "cell_type": "markdown",
   "metadata": {},
   "source": [
    "#### Explorando la data"
   ]
  },
  {
   "cell_type": "code",
   "execution_count": 21,
   "metadata": {},
   "outputs": [
    {
     "name": "stdout",
     "output_type": "stream",
     "text": [
      "(74180464, 11)\n"
     ]
    },
    {
     "data": {
      "text/plain": [
       "Semana                 int64\n",
       "Agencia_ID             int64\n",
       "Canal_ID               int64\n",
       "Ruta_SAK               int64\n",
       "Cliente_ID             int64\n",
       "Producto_ID            int64\n",
       "Venta_uni_hoy          int64\n",
       "Venta_hoy            float64\n",
       "Dev_uni_proxima        int64\n",
       "Dev_proxima          float64\n",
       "Demanda_uni_equil      int64\n",
       "dtype: object"
      ]
     },
     "execution_count": 21,
     "metadata": {},
     "output_type": "execute_result"
    }
   ],
   "source": [
    "print(train.shape)\n",
    "train.dtypes"
   ]
  },
  {
   "cell_type": "code",
   "execution_count": 17,
   "metadata": {},
   "outputs": [
    {
     "data": {
      "text/html": [
       "<div>\n",
       "<style scoped>\n",
       "    .dataframe tbody tr th:only-of-type {\n",
       "        vertical-align: middle;\n",
       "    }\n",
       "\n",
       "    .dataframe tbody tr th {\n",
       "        vertical-align: top;\n",
       "    }\n",
       "\n",
       "    .dataframe thead th {\n",
       "        text-align: right;\n",
       "    }\n",
       "</style>\n",
       "<table border=\"1\" class=\"dataframe\">\n",
       "  <thead>\n",
       "    <tr style=\"text-align: right;\">\n",
       "      <th></th>\n",
       "      <th>Semana</th>\n",
       "      <th>Agencia_ID</th>\n",
       "      <th>Canal_ID</th>\n",
       "      <th>Ruta_SAK</th>\n",
       "      <th>Cliente_ID</th>\n",
       "      <th>Producto_ID</th>\n",
       "      <th>Venta_uni_hoy</th>\n",
       "      <th>Venta_hoy</th>\n",
       "      <th>Dev_uni_proxima</th>\n",
       "      <th>Dev_proxima</th>\n",
       "      <th>Demanda_uni_equil</th>\n",
       "    </tr>\n",
       "  </thead>\n",
       "  <tbody>\n",
       "    <tr>\n",
       "      <th>74180459</th>\n",
       "      <td>9</td>\n",
       "      <td>25759</td>\n",
       "      <td>1</td>\n",
       "      <td>5517</td>\n",
       "      <td>4528866</td>\n",
       "      <td>32873</td>\n",
       "      <td>4</td>\n",
       "      <td>27.76</td>\n",
       "      <td>0</td>\n",
       "      <td>0.00</td>\n",
       "      <td>4</td>\n",
       "    </tr>\n",
       "    <tr>\n",
       "      <th>74180460</th>\n",
       "      <td>9</td>\n",
       "      <td>25759</td>\n",
       "      <td>1</td>\n",
       "      <td>5517</td>\n",
       "      <td>4528866</td>\n",
       "      <td>34226</td>\n",
       "      <td>4</td>\n",
       "      <td>37.04</td>\n",
       "      <td>0</td>\n",
       "      <td>0.00</td>\n",
       "      <td>4</td>\n",
       "    </tr>\n",
       "    <tr>\n",
       "      <th>74180461</th>\n",
       "      <td>9</td>\n",
       "      <td>25759</td>\n",
       "      <td>1</td>\n",
       "      <td>5517</td>\n",
       "      <td>4528866</td>\n",
       "      <td>45112</td>\n",
       "      <td>4</td>\n",
       "      <td>51.00</td>\n",
       "      <td>0</td>\n",
       "      <td>0.00</td>\n",
       "      <td>4</td>\n",
       "    </tr>\n",
       "    <tr>\n",
       "      <th>74180462</th>\n",
       "      <td>9</td>\n",
       "      <td>25759</td>\n",
       "      <td>1</td>\n",
       "      <td>5517</td>\n",
       "      <td>4547943</td>\n",
       "      <td>40217</td>\n",
       "      <td>3</td>\n",
       "      <td>26.94</td>\n",
       "      <td>3</td>\n",
       "      <td>26.94</td>\n",
       "      <td>0</td>\n",
       "    </tr>\n",
       "    <tr>\n",
       "      <th>74180463</th>\n",
       "      <td>9</td>\n",
       "      <td>25759</td>\n",
       "      <td>1</td>\n",
       "      <td>5517</td>\n",
       "      <td>4708097</td>\n",
       "      <td>43159</td>\n",
       "      <td>1</td>\n",
       "      <td>10.40</td>\n",
       "      <td>0</td>\n",
       "      <td>0.00</td>\n",
       "      <td>1</td>\n",
       "    </tr>\n",
       "  </tbody>\n",
       "</table>\n",
       "</div>"
      ],
      "text/plain": [
       "          Semana  Agencia_ID  Canal_ID  Ruta_SAK  Cliente_ID  Producto_ID  \\\n",
       "74180459       9       25759         1      5517     4528866        32873   \n",
       "74180460       9       25759         1      5517     4528866        34226   \n",
       "74180461       9       25759         1      5517     4528866        45112   \n",
       "74180462       9       25759         1      5517     4547943        40217   \n",
       "74180463       9       25759         1      5517     4708097        43159   \n",
       "\n",
       "          Venta_uni_hoy  Venta_hoy  Dev_uni_proxima  Dev_proxima  \\\n",
       "74180459              4      27.76                0         0.00   \n",
       "74180460              4      37.04                0         0.00   \n",
       "74180461              4      51.00                0         0.00   \n",
       "74180462              3      26.94                3        26.94   \n",
       "74180463              1      10.40                0         0.00   \n",
       "\n",
       "          Demanda_uni_equil  \n",
       "74180459                  4  \n",
       "74180460                  4  \n",
       "74180461                  4  \n",
       "74180462                  0  \n",
       "74180463                  1  "
      ]
     },
     "execution_count": 17,
     "metadata": {},
     "output_type": "execute_result"
    }
   ],
   "source": [
    "train.tail()"
   ]
  },
  {
   "cell_type": "code",
   "execution_count": 24,
   "metadata": {},
   "outputs": [
    {
     "data": {
      "text/plain": [
       "False"
      ]
     },
     "execution_count": 24,
     "metadata": {},
     "output_type": "execute_result"
    }
   ],
   "source": [
    "train.duplicated().any()"
   ]
  }
 ],
 "metadata": {
  "kernelspec": {
   "display_name": "Python 3",
   "language": "python",
   "name": "python3"
  },
  "language_info": {
   "codemirror_mode": {
    "name": "ipython",
    "version": 3
   },
   "file_extension": ".py",
   "mimetype": "text/x-python",
   "name": "python",
   "nbconvert_exporter": "python",
   "pygments_lexer": "ipython3",
   "version": "3.9.12"
  }
 },
 "nbformat": 4,
 "nbformat_minor": 2
}
