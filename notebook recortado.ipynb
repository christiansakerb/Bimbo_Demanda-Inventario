{
 "cells": [
  {
   "cell_type": "markdown",
   "metadata": {},
   "source": [
    "Librerías"
   ]
  },
  {
   "cell_type": "code",
   "execution_count": 1,
   "metadata": {},
   "outputs": [],
   "source": [
    "import pandas as pd\n",
    "import numpy as np\n",
    "import matplotlib.pyplot as plt\n",
    "import seaborn as sns\n",
    "import sys\n",
    "import pickle\n",
    "import psutil"
   ]
  },
  {
   "cell_type": "markdown",
   "metadata": {},
   "source": [
    "Carga de datos"
   ]
  },
  {
   "cell_type": "code",
   "execution_count": 2,
   "metadata": {},
   "outputs": [],
   "source": [
    "clientes = pd.read_csv('cliente_tabla.csv')\n",
    "productos = pd.read_csv('producto_tabla.csv')\n",
    "#sample_submission = pd.read_csv('sample_submission.csv')\n",
    "town_state  = pd.read_csv('town_state.csv')"
   ]
  },
  {
   "cell_type": "code",
   "execution_count": 3,
   "metadata": {},
   "outputs": [],
   "source": [
    "train = pd.read_csv('train.csv')"
   ]
  },
  {
   "cell_type": "markdown",
   "metadata": {},
   "source": [
    "Para hacer seguimiento a la memoria"
   ]
  },
  {
   "cell_type": "code",
   "execution_count": 4,
   "metadata": {},
   "outputs": [],
   "source": [
    "def variables_por_tamaño():\n",
    "    variables = {k: sys.getsizeof(v) for k, v in globals().items() if not k.startswith('_')}\n",
    "    \n",
    "    variables_en_gb = {k: v / 1024**3 for k, v in variables.items()}\n",
    "    \n",
    "    tipos_variables = {k: type(v).__name__ for k, v in globals().items() if not k.startswith('_')}\n",
    "    \n",
    "    df = pd.DataFrame({'Variable': list(variables_en_gb.keys()),\n",
    "                       'Tipo': list(tipos_variables.values()),\n",
    "                       'Tamaño_GB': list(variables_en_gb.values())})\n",
    "    \n",
    "    df = df.sort_values('Tamaño_GB', ascending=False).reset_index(drop=True)\n",
    "    \n",
    "    # Mostrar la memoria disponible\n",
    "    memoria_disponible()\n",
    "    \n",
    "    return df\n",
    "\n",
    "\n",
    "\n",
    "def Gb_por_variable(variable):\n",
    "    print(sys.getsizeof(variable)/(1024**3))\n",
    "    memoria_disponible()\n",
    "\n",
    "def memoria_disponible():\n",
    "    mem = psutil.virtual_memory()\n",
    "    mem_total_gb = mem.total / (1024 ** 3)  # Memoria total en GB\n",
    "    mem_disponible_gb = mem.available / (1024 ** 3)  # Memoria disponible en GB\n",
    "\n",
    "    print(\"Memoria Total:\", mem_total_gb, \"GB\")\n",
    "    print(\"Memoria Disponible:\", mem_disponible_gb, \"GB\")\n"
   ]
  },
  {
   "cell_type": "code",
   "execution_count": 10,
   "metadata": {},
   "outputs": [
    {
     "data": {
      "text/plain": [
       "Index(['Semana', 'Agencia_ID', 'Canal_ID', 'Ruta_SAK', 'Cliente_ID',\n",
       "       'Producto_ID', 'Venta_uni_hoy', 'Venta_hoy', 'Dev_uni_proxima',\n",
       "       'Dev_proxima', 'Demanda_uni_equil'],\n",
       "      dtype='object')"
      ]
     },
     "execution_count": 10,
     "metadata": {},
     "output_type": "execute_result"
    }
   ],
   "source": [
    "train.columns"
   ]
  },
  {
   "cell_type": "code",
   "execution_count": 6,
   "metadata": {},
   "outputs": [],
   "source": [
    "df_ventas_pivot = pd.pivot_table(data=train,\n",
    "                                 index=['Agencia_ID','Canal_ID','Ruta_SAK','Cliente_ID','Producto_ID'],\n",
    "                                 columns='Semana',\n",
    "                                 values='Venta_uni_hoy').fillna(0)\n",
    "\n",
    "nombre_archivo = 'Pkl/df_ventas_pivot.pkl'\n",
    "with open(nombre_archivo, 'wb') as archivo_pkl:\n",
    "    pickle.dump(df_ventas_pivot, archivo_pkl)"
   ]
  },
  {
   "cell_type": "code",
   "execution_count": 12,
   "metadata": {},
   "outputs": [],
   "source": [
    "df_devoluciones_pivot = pd.pivot_table(data=train,\n",
    "                                 index=['Agencia_ID','Canal_ID','Ruta_SAK','Cliente_ID','Producto_ID'],\n",
    "                                 columns='Semana',\n",
    "                                 values='Dev_uni_proxima').fillna(0) \n",
    "\n",
    "nombre_archivo = 'Pkl/df_devoluciones_pivot.pkl'\n",
    "with open(nombre_archivo, 'wb') as archivo_pkl:\n",
    "    pickle.dump(df_devoluciones_pivot, archivo_pkl)"
   ]
  },
  {
   "cell_type": "code",
   "execution_count": 131,
   "metadata": {},
   "outputs": [
    {
     "data": {
      "text/html": [
       "<div>\n",
       "<style scoped>\n",
       "    .dataframe tbody tr th:only-of-type {\n",
       "        vertical-align: middle;\n",
       "    }\n",
       "\n",
       "    .dataframe tbody tr th {\n",
       "        vertical-align: top;\n",
       "    }\n",
       "\n",
       "    .dataframe thead th {\n",
       "        text-align: right;\n",
       "    }\n",
       "</style>\n",
       "<table border=\"1\" class=\"dataframe\">\n",
       "  <thead>\n",
       "    <tr style=\"text-align: right;\">\n",
       "      <th></th>\n",
       "      <th></th>\n",
       "      <th></th>\n",
       "      <th></th>\n",
       "      <th>Semana</th>\n",
       "      <th>3</th>\n",
       "      <th>4</th>\n",
       "      <th>5</th>\n",
       "      <th>6</th>\n",
       "      <th>7</th>\n",
       "      <th>8</th>\n",
       "      <th>9</th>\n",
       "    </tr>\n",
       "    <tr>\n",
       "      <th>Agencia_ID</th>\n",
       "      <th>Canal_ID</th>\n",
       "      <th>Ruta_SAK</th>\n",
       "      <th>Cliente_ID</th>\n",
       "      <th>Producto_ID</th>\n",
       "      <th></th>\n",
       "      <th></th>\n",
       "      <th></th>\n",
       "      <th></th>\n",
       "      <th></th>\n",
       "      <th></th>\n",
       "      <th></th>\n",
       "    </tr>\n",
       "  </thead>\n",
       "  <tbody>\n",
       "    <tr>\n",
       "      <th rowspan=\"4\" valign=\"top\">1110</th>\n",
       "      <th rowspan=\"4\" valign=\"top\">7</th>\n",
       "      <th rowspan=\"4\" valign=\"top\">3301</th>\n",
       "      <th rowspan=\"4\" valign=\"top\">15766</th>\n",
       "      <th>325</th>\n",
       "      <td>0.0</td>\n",
       "      <td>1.0</td>\n",
       "      <td>0.0</td>\n",
       "      <td>0.0</td>\n",
       "      <td>0.0</td>\n",
       "      <td>0.0</td>\n",
       "      <td>0.0</td>\n",
       "    </tr>\n",
       "    <tr>\n",
       "      <th>328</th>\n",
       "      <td>0.0</td>\n",
       "      <td>1.0</td>\n",
       "      <td>0.0</td>\n",
       "      <td>0.0</td>\n",
       "      <td>0.0</td>\n",
       "      <td>0.0</td>\n",
       "      <td>0.0</td>\n",
       "    </tr>\n",
       "    <tr>\n",
       "      <th>1212</th>\n",
       "      <td>3.0</td>\n",
       "      <td>4.0</td>\n",
       "      <td>5.0</td>\n",
       "      <td>0.0</td>\n",
       "      <td>0.0</td>\n",
       "      <td>4.0</td>\n",
       "      <td>1.0</td>\n",
       "    </tr>\n",
       "    <tr>\n",
       "      <th>1216</th>\n",
       "      <td>4.0</td>\n",
       "      <td>2.0</td>\n",
       "      <td>3.0</td>\n",
       "      <td>1.0</td>\n",
       "      <td>2.0</td>\n",
       "      <td>5.0</td>\n",
       "      <td>0.0</td>\n",
       "    </tr>\n",
       "  </tbody>\n",
       "</table>\n",
       "</div>"
      ],
      "text/plain": [
       "Semana                                                 3    4    5    6    7  \\\n",
       "Agencia_ID Canal_ID Ruta_SAK Cliente_ID Producto_ID                            \n",
       "1110       7        3301     15766      325          0.0  1.0  0.0  0.0  0.0   \n",
       "                                        328          0.0  1.0  0.0  0.0  0.0   \n",
       "                                        1212         3.0  4.0  5.0  0.0  0.0   \n",
       "                                        1216         4.0  2.0  3.0  1.0  2.0   \n",
       "\n",
       "Semana                                                 8    9  \n",
       "Agencia_ID Canal_ID Ruta_SAK Cliente_ID Producto_ID            \n",
       "1110       7        3301     15766      325          0.0  0.0  \n",
       "                                        328          0.0  0.0  \n",
       "                                        1212         4.0  1.0  \n",
       "                                        1216         5.0  0.0  "
      ]
     },
     "execution_count": 131,
     "metadata": {},
     "output_type": "execute_result"
    }
   ],
   "source": [
    "df_ventas_pivot.head(1+3)"
   ]
  },
  {
   "cell_type": "markdown",
   "metadata": {},
   "source": [
    "Para Modelar Unds Vendidas"
   ]
  },
  {
   "cell_type": "code",
   "execution_count": 408,
   "metadata": {},
   "outputs": [
    {
     "data": {
      "text/plain": [
       "((1110, 7, 3301, 15766, 1250),\n",
       " [10, 10, 11, 0.5439433649162874, 0.0081269177815803])"
      ]
     },
     "execution_count": 408,
     "metadata": {},
     "output_type": "execute_result"
    }
   ],
   "source": [
    "import numpy as np\n",
    "import pandas as pd\n",
    "from sklearn.ensemble import RandomForestRegressor\n",
    "from skforecast.ForecasterAutoreg import ForecasterAutoreg\n",
    "from sklearn.linear_model import LinearRegression\n",
    "from sklearn.metrics import mean_squared_error\n",
    "\n",
    "\n",
    "def rf_pred(y_true,periodos):\n",
    "    y_series = pd.Series(y_true)\n",
    "    model = RandomForestRegressor(n_estimators=100, random_state=42)\n",
    "    forecaster_rf = ForecasterAutoreg(regressor=model,lags=periodos)\n",
    "    forecaster_rf.fit(y=y_series)\n",
    "    y_pred = forecaster_rf.predict(steps=periodos)\n",
    "    return np.array(y_pred)\n",
    "\n",
    "def rl_pred(y_true, periodos):\n",
    "    y_series = np.array(y_true)\n",
    "    model = LinearRegression()\n",
    "    periodos_pasados = np.arange(1, len(y_true)+1).reshape(-1, 1)\n",
    "    model.fit(periodos_pasados, y_series)\n",
    "    periodos_futuros = np.arange(len(y_true) + 1, len(y_true) + periodos + 1).reshape(-1, 1)\n",
    "    y_pred = model.predict(periodos_futuros)\n",
    "    return y_pred\n",
    "\n",
    "def calcular_MSE(y_true,y_pred):\n",
    "    return np.mean((y_true - y_pred)**2)\n",
    "\n",
    "def plot(y_true,y_pred,aplica):\n",
    "    \n",
    "    if aplica =='S':\n",
    "        print(y_true)\n",
    "        plt.plot(np.concatenate((y_true, y_pred)))\n",
    "        plt.show()\n",
    "    \n",
    "def revisar_linealidad(df,id,periodos,graph='N'):\n",
    "    y_true = df.iloc[id].to_numpy()\n",
    "    \n",
    "    y_train = y_true[:y_true.shape[0]-1]\n",
    "    y_test = y_true[y_true.shape[0]-1]\n",
    "    \n",
    "    cof_coerr = np.abs(np.corrcoef(y_true,df_ventas_pivot.columns)[0][1]) #Correlación positiva\n",
    "    id_name = df_ventas_pivot.index[id]\n",
    "\n",
    "\n",
    "    if cof_coerr > 0.75: #Solo regresion Lineal\n",
    "        pred= rl_pred(y_train,periodos)\n",
    "    if cof_coerr > 0.5: #Combinación regresion Lineal & RandomForest\n",
    "        pred= ((rl_pred(y_train,periodos) * cof_coerr) + (rf_pred(y_train,periodos) * cof_coerr))\n",
    "    else: #Solo RandomForest\n",
    "        pred= rf_pred(y_train,periodos)\n",
    "\n",
    "    pred = np.clip(pred, a_min=0, a_max=None)\n",
    "\n",
    "    plot(y_true,pred,aplica=graph)    \n",
    "    lista_preds = list(pred.astype('int'))\n",
    "    lista_preds.append(cof_coerr)\n",
    "    lista_preds.append(calcular_MSE(y_test,pred[0]))\n",
    "    return id_name,lista_preds\n",
    "\n",
    "revisar_linealidad(df_ventas_pivot,8,3,graph='N')"
   ]
  },
  {
   "cell_type": "code",
   "execution_count": null,
   "metadata": {},
   "outputs": [],
   "source": [
    "lista_proyecciones = []\n",
    "for num,codigo in enumerate(df_ventas_pivot.index):\n",
    "    print(num/df_ventas_pivot.shape[0])\n",
    "    lista_proyecciones.append(revisar_linealidad(df_ventas_pivot,num,3))"
   ]
  },
  {
   "cell_type": "markdown",
   "metadata": {},
   "source": [
    "Base de datos test"
   ]
  },
  {
   "cell_type": "code",
   "execution_count": 413,
   "metadata": {},
   "outputs": [
    {
     "data": {
      "text/html": [
       "<div>\n",
       "<style scoped>\n",
       "    .dataframe tbody tr th:only-of-type {\n",
       "        vertical-align: middle;\n",
       "    }\n",
       "\n",
       "    .dataframe tbody tr th {\n",
       "        vertical-align: top;\n",
       "    }\n",
       "\n",
       "    .dataframe thead th {\n",
       "        text-align: right;\n",
       "    }\n",
       "</style>\n",
       "<table border=\"1\" class=\"dataframe\">\n",
       "  <thead>\n",
       "    <tr style=\"text-align: right;\">\n",
       "      <th></th>\n",
       "      <th>id</th>\n",
       "      <th>Semana</th>\n",
       "      <th>Agencia_ID</th>\n",
       "      <th>Canal_ID</th>\n",
       "      <th>Ruta_SAK</th>\n",
       "      <th>Cliente_ID</th>\n",
       "      <th>Producto_ID</th>\n",
       "    </tr>\n",
       "  </thead>\n",
       "  <tbody>\n",
       "    <tr>\n",
       "      <th>0</th>\n",
       "      <td>0</td>\n",
       "      <td>11</td>\n",
       "      <td>4037</td>\n",
       "      <td>1</td>\n",
       "      <td>2209</td>\n",
       "      <td>4639078</td>\n",
       "      <td>35305</td>\n",
       "    </tr>\n",
       "    <tr>\n",
       "      <th>1</th>\n",
       "      <td>1</td>\n",
       "      <td>11</td>\n",
       "      <td>2237</td>\n",
       "      <td>1</td>\n",
       "      <td>1226</td>\n",
       "      <td>4705135</td>\n",
       "      <td>1238</td>\n",
       "    </tr>\n",
       "    <tr>\n",
       "      <th>2</th>\n",
       "      <td>2</td>\n",
       "      <td>10</td>\n",
       "      <td>2045</td>\n",
       "      <td>1</td>\n",
       "      <td>2831</td>\n",
       "      <td>4549769</td>\n",
       "      <td>32940</td>\n",
       "    </tr>\n",
       "    <tr>\n",
       "      <th>3</th>\n",
       "      <td>3</td>\n",
       "      <td>11</td>\n",
       "      <td>1227</td>\n",
       "      <td>1</td>\n",
       "      <td>4448</td>\n",
       "      <td>4717855</td>\n",
       "      <td>43066</td>\n",
       "    </tr>\n",
       "    <tr>\n",
       "      <th>4</th>\n",
       "      <td>4</td>\n",
       "      <td>11</td>\n",
       "      <td>1219</td>\n",
       "      <td>1</td>\n",
       "      <td>1130</td>\n",
       "      <td>966351</td>\n",
       "      <td>1277</td>\n",
       "    </tr>\n",
       "    <tr>\n",
       "      <th>...</th>\n",
       "      <td>...</td>\n",
       "      <td>...</td>\n",
       "      <td>...</td>\n",
       "      <td>...</td>\n",
       "      <td>...</td>\n",
       "      <td>...</td>\n",
       "      <td>...</td>\n",
       "    </tr>\n",
       "    <tr>\n",
       "      <th>6999246</th>\n",
       "      <td>6999246</td>\n",
       "      <td>11</td>\n",
       "      <td>2057</td>\n",
       "      <td>1</td>\n",
       "      <td>1153</td>\n",
       "      <td>4379638</td>\n",
       "      <td>1232</td>\n",
       "    </tr>\n",
       "    <tr>\n",
       "      <th>6999247</th>\n",
       "      <td>6999247</td>\n",
       "      <td>10</td>\n",
       "      <td>1334</td>\n",
       "      <td>1</td>\n",
       "      <td>2008</td>\n",
       "      <td>970421</td>\n",
       "      <td>43069</td>\n",
       "    </tr>\n",
       "    <tr>\n",
       "      <th>6999248</th>\n",
       "      <td>6999248</td>\n",
       "      <td>11</td>\n",
       "      <td>1622</td>\n",
       "      <td>1</td>\n",
       "      <td>2869</td>\n",
       "      <td>192749</td>\n",
       "      <td>30532</td>\n",
       "    </tr>\n",
       "    <tr>\n",
       "      <th>6999249</th>\n",
       "      <td>6999249</td>\n",
       "      <td>11</td>\n",
       "      <td>1636</td>\n",
       "      <td>1</td>\n",
       "      <td>4401</td>\n",
       "      <td>286071</td>\n",
       "      <td>35107</td>\n",
       "    </tr>\n",
       "    <tr>\n",
       "      <th>6999250</th>\n",
       "      <td>6999250</td>\n",
       "      <td>11</td>\n",
       "      <td>1625</td>\n",
       "      <td>1</td>\n",
       "      <td>1259</td>\n",
       "      <td>978760</td>\n",
       "      <td>1232</td>\n",
       "    </tr>\n",
       "  </tbody>\n",
       "</table>\n",
       "<p>6999251 rows × 7 columns</p>\n",
       "</div>"
      ],
      "text/plain": [
       "              id  Semana  Agencia_ID  Canal_ID  Ruta_SAK  Cliente_ID  \\\n",
       "0              0      11        4037         1      2209     4639078   \n",
       "1              1      11        2237         1      1226     4705135   \n",
       "2              2      10        2045         1      2831     4549769   \n",
       "3              3      11        1227         1      4448     4717855   \n",
       "4              4      11        1219         1      1130      966351   \n",
       "...          ...     ...         ...       ...       ...         ...   \n",
       "6999246  6999246      11        2057         1      1153     4379638   \n",
       "6999247  6999247      10        1334         1      2008      970421   \n",
       "6999248  6999248      11        1622         1      2869      192749   \n",
       "6999249  6999249      11        1636         1      4401      286071   \n",
       "6999250  6999250      11        1625         1      1259      978760   \n",
       "\n",
       "         Producto_ID  \n",
       "0              35305  \n",
       "1               1238  \n",
       "2              32940  \n",
       "3              43066  \n",
       "4               1277  \n",
       "...              ...  \n",
       "6999246         1232  \n",
       "6999247        43069  \n",
       "6999248        30532  \n",
       "6999249        35107  \n",
       "6999250         1232  \n",
       "\n",
       "[6999251 rows x 7 columns]"
      ]
     },
     "execution_count": 413,
     "metadata": {},
     "output_type": "execute_result"
    }
   ],
   "source": [
    "test  = pd.read_csv('test.csv')\n",
    "test_pivot = pd.pivot_table(data=test,\n",
    "                                 index=['Agencia_ID','Canal_ID','Ruta_SAK','Cliente_ID','Producto_ID'],\n",
    "                                 columns='Semana',\n",
    "                                 values='Semana')"
   ]
  },
  {
   "cell_type": "code",
   "execution_count": 430,
   "metadata": {},
   "outputs": [
    {
     "data": {
      "text/plain": [
       "(1355454,)"
      ]
     },
     "execution_count": 430,
     "metadata": {},
     "output_type": "execute_result"
    }
   ],
   "source": [
    "indices_faltantes = test_pivot.index.difference(df_ventas_pivot.index)\n",
    "indices_faltantes.shape"
   ]
  },
  {
   "cell_type": "code",
   "execution_count": 453,
   "metadata": {},
   "outputs": [
    {
     "name": "stdout",
     "output_type": "stream",
     "text": [
      "Agencia_ID []\n",
      "Canal_ID []\n",
      "Ruta_SAK [1823 3555 3556 3557 3558 3801 3803 4559 6148 6162 7433 7775 8044 8189\n",
      " 9349 9562 9585]\n",
      "Cliente_ID [   2683    5380    5707 ... 9746104 9747048 9780515]\n",
      "Producto_ID [   98 31203 31211 31655 32026 32224 32421 32591 32798 32820 33053 35191\n",
      " 35246 36524 36673 37202 37362 37404 37405 37494 37495 37496 37610 37617\n",
      " 37618 37620 37626 37688 37702 37745 42323 46064 46131 48217]\n"
     ]
    }
   ],
   "source": [
    "Diccionario_faltantes={}\n",
    "def verificar_agencias(col):\n",
    "    indices_izq = test_pivot.reset_index()[col].unique()\n",
    "    indices_der = df_ventas_pivot.reset_index()[col].unique()\n",
    "\n",
    "    faltantes= np.setdiff1d(indices_izq, indices_der)\n",
    "\n",
    "    Diccionario_faltantes[col]=faltantes\n",
    "    print(col,str(faltantes))\n",
    "\n",
    "for col in ['Agencia_ID','Canal_ID','Ruta_SAK','Cliente_ID','Producto_ID']:\n",
    "    verificar_agencias(col)\n",
    "\n",
    "#np.setdiff1d(Diccionario_faltantes['Producto_ID'],productos['Producto_ID'].unique())"
   ]
  },
  {
   "cell_type": "markdown",
   "metadata": {},
   "source": [
    "Nombres similares"
   ]
  },
  {
   "cell_type": "markdown",
   "metadata": {},
   "source": [
    "Ajuste de nombres de productos"
   ]
  },
  {
   "cell_type": "code",
   "execution_count": 546,
   "metadata": {},
   "outputs": [],
   "source": [
    "from sklearn.feature_extraction.text import CountVectorizer\n",
    "import re\n",
    "from sklearn.metrics.pairwise import cosine_similarity\n",
    "\n",
    "\n",
    "def limpiar_texto(texto):\n",
    "    texto_limpio = re.sub(r'\\b\\w{1,2}\\b|\\d+', '', texto.lower())\n",
    "    return texto_limpio\n",
    "\n",
    "productos['NombreProductoLimpio'] = productos['NombreProducto'].apply(limpiar_texto)\n",
    "productos['NombreProductoLimpio'] = productos['NombreProductoLimpio'].apply(limpiar_texto)\n",
    "\n",
    "\n",
    "vectorizer = CountVectorizer()\n",
    "X = vectorizer.fit_transform(productos['NombreProductoLimpio'])\n",
    "count_df = pd.DataFrame(X.toarray(), columns=vectorizer.get_feature_names_out(),index=productos['Producto_ID'])\n",
    "similaridades = cosine_similarity(count_df)\n"
   ]
  },
  {
   "cell_type": "markdown",
   "metadata": {},
   "source": [
    "Buscar ids"
   ]
  },
  {
   "cell_type": "code",
   "execution_count": 595,
   "metadata": {},
   "outputs": [
    {
     "data": {
      "text/html": [
       "<div>\n",
       "<style scoped>\n",
       "    .dataframe tbody tr th:only-of-type {\n",
       "        vertical-align: middle;\n",
       "    }\n",
       "\n",
       "    .dataframe tbody tr th {\n",
       "        vertical-align: top;\n",
       "    }\n",
       "\n",
       "    .dataframe thead th {\n",
       "        text-align: right;\n",
       "    }\n",
       "</style>\n",
       "<table border=\"1\" class=\"dataframe\">\n",
       "  <thead>\n",
       "    <tr style=\"text-align: right;\">\n",
       "      <th></th>\n",
       "      <th>Producto_ID</th>\n",
       "      <th>NombreProducto</th>\n",
       "      <th>NombreProductoLimpio</th>\n",
       "    </tr>\n",
       "  </thead>\n",
       "  <tbody>\n",
       "    <tr>\n",
       "      <th>1883</th>\n",
       "      <td>37496</td>\n",
       "      <td>Dolce Roll 1p 30g Cj TAB MLA 37496</td>\n",
       "      <td>dolce roll    tab mla</td>\n",
       "    </tr>\n",
       "  </tbody>\n",
       "</table>\n",
       "</div>"
      ],
      "text/plain": [
       "      Producto_ID                      NombreProducto    NombreProductoLimpio\n",
       "1883        37496  Dolce Roll 1p 30g Cj TAB MLA 37496  dolce roll    tab mla "
      ]
     },
     "metadata": {},
     "output_type": "display_data"
    },
    {
     "data": {
      "text/html": [
       "<div>\n",
       "<style scoped>\n",
       "    .dataframe tbody tr th:only-of-type {\n",
       "        vertical-align: middle;\n",
       "    }\n",
       "\n",
       "    .dataframe tbody tr th {\n",
       "        vertical-align: top;\n",
       "    }\n",
       "\n",
       "    .dataframe thead th {\n",
       "        text-align: right;\n",
       "    }\n",
       "</style>\n",
       "<table border=\"1\" class=\"dataframe\">\n",
       "  <thead>\n",
       "    <tr style=\"text-align: right;\">\n",
       "      <th></th>\n",
       "      <th>Producto_ID</th>\n",
       "      <th>NombreProducto</th>\n",
       "      <th>NombreProductoLimpio</th>\n",
       "    </tr>\n",
       "  </thead>\n",
       "  <tbody>\n",
       "    <tr>\n",
       "      <th>910</th>\n",
       "      <td>32935</td>\n",
       "      <td>Lors 10p 98g TAB MLA 32935</td>\n",
       "      <td>lors   tab mla</td>\n",
       "    </tr>\n",
       "    <tr>\n",
       "      <th>927</th>\n",
       "      <td>32963</td>\n",
       "      <td>Mi Pinguino 6p 180g ME TAB MLA 32963</td>\n",
       "      <td>pinguino    tab mla</td>\n",
       "    </tr>\n",
       "    <tr>\n",
       "      <th>1353</th>\n",
       "      <td>35457</td>\n",
       "      <td>Dalmata 1p 55g SP TAB MLA 35457</td>\n",
       "      <td>dalmata    tab mla</td>\n",
       "    </tr>\n",
       "    <tr>\n",
       "      <th>1881</th>\n",
       "      <td>37494</td>\n",
       "      <td>Dolce Roll 1p 30g Cj MLA 37494</td>\n",
       "      <td>dolce roll    mla</td>\n",
       "    </tr>\n",
       "    <tr>\n",
       "      <th>1882</th>\n",
       "      <td>37495</td>\n",
       "      <td>Dolce Roll 1p 30g Cj MTA MLA 37495</td>\n",
       "      <td>dolce roll    mta mla</td>\n",
       "    </tr>\n",
       "  </tbody>\n",
       "</table>\n",
       "</div>"
      ],
      "text/plain": [
       "      Producto_ID                        NombreProducto  \\\n",
       "910         32935            Lors 10p 98g TAB MLA 32935   \n",
       "927         32963  Mi Pinguino 6p 180g ME TAB MLA 32963   \n",
       "1353        35457       Dalmata 1p 55g SP TAB MLA 35457   \n",
       "1881        37494        Dolce Roll 1p 30g Cj MLA 37494   \n",
       "1882        37495    Dolce Roll 1p 30g Cj MTA MLA 37495   \n",
       "\n",
       "        NombreProductoLimpio  \n",
       "910          lors   tab mla   \n",
       "927     pinguino    tab mla   \n",
       "1353     dalmata    tab mla   \n",
       "1881      dolce roll    mla   \n",
       "1882  dolce roll    mta mla   "
      ]
     },
     "metadata": {},
     "output_type": "display_data"
    },
    {
     "data": {
      "text/plain": [
       "array([32935, 32963, 35457, 37494, 37495], dtype=int64)"
      ]
     },
     "execution_count": 595,
     "metadata": {},
     "output_type": "execute_result"
    }
   ],
   "source": [
    "def obtener_resultados(id_a_buscar,graph='N'):\n",
    "    similares = similaridades[productos[productos['Producto_ID'] == id_a_buscar].index]\n",
    "    similares_df = pd.DataFrame(similares.T, index=productos['Producto_ID'], columns=['Similitud'])\n",
    "    productos_similares = similares_df[similares_df.index != id_a_buscar].sort_values(by='Similitud', ascending=False).head(5)\n",
    "\n",
    "    if graph=='S':\n",
    "        display(productos[productos['Producto_ID']==id_a_buscar])\n",
    "        display(productos[productos['Producto_ID'].isin(productos_similares.index)])\n",
    "    return productos[productos['Producto_ID'].isin(productos_similares.head(5).index)]['Producto_ID'].to_numpy()\n",
    "\n",
    "obtener_resultados(37496,graph='S')"
   ]
  }
 ],
 "metadata": {
  "kernelspec": {
   "display_name": "Python 3",
   "language": "python",
   "name": "python3"
  },
  "language_info": {
   "codemirror_mode": {
    "name": "ipython",
    "version": 3
   },
   "file_extension": ".py",
   "mimetype": "text/x-python",
   "name": "python",
   "nbconvert_exporter": "python",
   "pygments_lexer": "ipython3",
   "version": "3.9.12"
  }
 },
 "nbformat": 4,
 "nbformat_minor": 2
}
