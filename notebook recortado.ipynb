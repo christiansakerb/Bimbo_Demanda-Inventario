{
 "cells": [
  {
   "cell_type": "markdown",
   "metadata": {},
   "source": [
    "Librerías"
   ]
  },
  {
   "cell_type": "code",
   "execution_count": 1,
   "metadata": {},
   "outputs": [],
   "source": [
    "import pandas as pd\n",
    "import numpy as np\n",
    "import matplotlib.pyplot as plt\n",
    "import seaborn as sns\n",
    "import sys\n",
    "import pickle\n",
    "import psutil"
   ]
  },
  {
   "cell_type": "markdown",
   "metadata": {},
   "source": [
    "Carga de datos"
   ]
  },
  {
   "cell_type": "code",
   "execution_count": 2,
   "metadata": {},
   "outputs": [],
   "source": [
    "clientes = pd.read_csv('cliente_tabla.csv')\n",
    "productos = pd.read_csv('producto_tabla.csv')\n",
    "#sample_submission = pd.read_csv('sample_submission.csv')\n",
    "#test  = pd.read_csv('test.csv')\n",
    "town_state  = pd.read_csv('town_state.csv')"
   ]
  },
  {
   "cell_type": "code",
   "execution_count": 3,
   "metadata": {},
   "outputs": [],
   "source": [
    "train = pd.read_csv('train.csv')"
   ]
  },
  {
   "cell_type": "markdown",
   "metadata": {},
   "source": [
    "Para hacer seguimiento a la memoria"
   ]
  },
  {
   "cell_type": "code",
   "execution_count": 4,
   "metadata": {},
   "outputs": [],
   "source": [
    "def variables_por_tamaño():\n",
    "    variables = {k: sys.getsizeof(v) for k, v in globals().items() if not k.startswith('_')}\n",
    "    \n",
    "    variables_en_gb = {k: v / 1024**3 for k, v in variables.items()}\n",
    "    \n",
    "    tipos_variables = {k: type(v).__name__ for k, v in globals().items() if not k.startswith('_')}\n",
    "    \n",
    "    df = pd.DataFrame({'Variable': list(variables_en_gb.keys()),\n",
    "                       'Tipo': list(tipos_variables.values()),\n",
    "                       'Tamaño_GB': list(variables_en_gb.values())})\n",
    "    \n",
    "    df = df.sort_values('Tamaño_GB', ascending=False).reset_index(drop=True)\n",
    "    \n",
    "    # Mostrar la memoria disponible\n",
    "    memoria_disponible()\n",
    "    \n",
    "    return df\n",
    "\n",
    "\n",
    "\n",
    "def Gb_por_variable(variable):\n",
    "    print(sys.getsizeof(variable)/(1024**3))\n",
    "    memoria_disponible()\n",
    "\n",
    "def memoria_disponible():\n",
    "    mem = psutil.virtual_memory()\n",
    "    mem_total_gb = mem.total / (1024 ** 3)  # Memoria total en GB\n",
    "    mem_disponible_gb = mem.available / (1024 ** 3)  # Memoria disponible en GB\n",
    "\n",
    "    print(\"Memoria Total:\", mem_total_gb, \"GB\")\n",
    "    print(\"Memoria Disponible:\", mem_disponible_gb, \"GB\")\n"
   ]
  },
  {
   "cell_type": "code",
   "execution_count": 10,
   "metadata": {},
   "outputs": [
    {
     "data": {
      "text/plain": [
       "Index(['Semana', 'Agencia_ID', 'Canal_ID', 'Ruta_SAK', 'Cliente_ID',\n",
       "       'Producto_ID', 'Venta_uni_hoy', 'Venta_hoy', 'Dev_uni_proxima',\n",
       "       'Dev_proxima', 'Demanda_uni_equil'],\n",
       "      dtype='object')"
      ]
     },
     "execution_count": 10,
     "metadata": {},
     "output_type": "execute_result"
    }
   ],
   "source": [
    "train.columns"
   ]
  },
  {
   "cell_type": "code",
   "execution_count": 6,
   "metadata": {},
   "outputs": [],
   "source": [
    "df_ventas_pivot = pd.pivot_table(data=train,\n",
    "                                 index=['Agencia_ID','Canal_ID','Ruta_SAK','Cliente_ID','Producto_ID'],\n",
    "                                 columns='Semana',\n",
    "                                 values='Venta_uni_hoy').fillna(0)\n",
    "\n",
    "nombre_archivo = 'Pkl/df_ventas_pivot.pkl'\n",
    "with open(nombre_archivo, 'wb') as archivo_pkl:\n",
    "    pickle.dump(df_ventas_pivot, archivo_pkl)"
   ]
  },
  {
   "cell_type": "code",
   "execution_count": 12,
   "metadata": {},
   "outputs": [],
   "source": [
    "df_devoluciones_pivot = pd.pivot_table(data=train,\n",
    "                                 index=['Agencia_ID','Canal_ID','Ruta_SAK','Cliente_ID','Producto_ID'],\n",
    "                                 columns='Semana',\n",
    "                                 values='Dev_uni_proxima').fillna(0) \n",
    "\n",
    "nombre_archivo = 'Pkl/df_devoluciones_pivot.pkl'\n",
    "with open(nombre_archivo, 'wb') as archivo_pkl:\n",
    "    pickle.dump(df_devoluciones_pivot, archivo_pkl)"
   ]
  },
  {
   "cell_type": "code",
   "execution_count": 131,
   "metadata": {},
   "outputs": [
    {
     "data": {
      "text/html": [
       "<div>\n",
       "<style scoped>\n",
       "    .dataframe tbody tr th:only-of-type {\n",
       "        vertical-align: middle;\n",
       "    }\n",
       "\n",
       "    .dataframe tbody tr th {\n",
       "        vertical-align: top;\n",
       "    }\n",
       "\n",
       "    .dataframe thead th {\n",
       "        text-align: right;\n",
       "    }\n",
       "</style>\n",
       "<table border=\"1\" class=\"dataframe\">\n",
       "  <thead>\n",
       "    <tr style=\"text-align: right;\">\n",
       "      <th></th>\n",
       "      <th></th>\n",
       "      <th></th>\n",
       "      <th></th>\n",
       "      <th>Semana</th>\n",
       "      <th>3</th>\n",
       "      <th>4</th>\n",
       "      <th>5</th>\n",
       "      <th>6</th>\n",
       "      <th>7</th>\n",
       "      <th>8</th>\n",
       "      <th>9</th>\n",
       "    </tr>\n",
       "    <tr>\n",
       "      <th>Agencia_ID</th>\n",
       "      <th>Canal_ID</th>\n",
       "      <th>Ruta_SAK</th>\n",
       "      <th>Cliente_ID</th>\n",
       "      <th>Producto_ID</th>\n",
       "      <th></th>\n",
       "      <th></th>\n",
       "      <th></th>\n",
       "      <th></th>\n",
       "      <th></th>\n",
       "      <th></th>\n",
       "      <th></th>\n",
       "    </tr>\n",
       "  </thead>\n",
       "  <tbody>\n",
       "    <tr>\n",
       "      <th rowspan=\"4\" valign=\"top\">1110</th>\n",
       "      <th rowspan=\"4\" valign=\"top\">7</th>\n",
       "      <th rowspan=\"4\" valign=\"top\">3301</th>\n",
       "      <th rowspan=\"4\" valign=\"top\">15766</th>\n",
       "      <th>325</th>\n",
       "      <td>0.0</td>\n",
       "      <td>1.0</td>\n",
       "      <td>0.0</td>\n",
       "      <td>0.0</td>\n",
       "      <td>0.0</td>\n",
       "      <td>0.0</td>\n",
       "      <td>0.0</td>\n",
       "    </tr>\n",
       "    <tr>\n",
       "      <th>328</th>\n",
       "      <td>0.0</td>\n",
       "      <td>1.0</td>\n",
       "      <td>0.0</td>\n",
       "      <td>0.0</td>\n",
       "      <td>0.0</td>\n",
       "      <td>0.0</td>\n",
       "      <td>0.0</td>\n",
       "    </tr>\n",
       "    <tr>\n",
       "      <th>1212</th>\n",
       "      <td>3.0</td>\n",
       "      <td>4.0</td>\n",
       "      <td>5.0</td>\n",
       "      <td>0.0</td>\n",
       "      <td>0.0</td>\n",
       "      <td>4.0</td>\n",
       "      <td>1.0</td>\n",
       "    </tr>\n",
       "    <tr>\n",
       "      <th>1216</th>\n",
       "      <td>4.0</td>\n",
       "      <td>2.0</td>\n",
       "      <td>3.0</td>\n",
       "      <td>1.0</td>\n",
       "      <td>2.0</td>\n",
       "      <td>5.0</td>\n",
       "      <td>0.0</td>\n",
       "    </tr>\n",
       "  </tbody>\n",
       "</table>\n",
       "</div>"
      ],
      "text/plain": [
       "Semana                                                 3    4    5    6    7  \\\n",
       "Agencia_ID Canal_ID Ruta_SAK Cliente_ID Producto_ID                            \n",
       "1110       7        3301     15766      325          0.0  1.0  0.0  0.0  0.0   \n",
       "                                        328          0.0  1.0  0.0  0.0  0.0   \n",
       "                                        1212         3.0  4.0  5.0  0.0  0.0   \n",
       "                                        1216         4.0  2.0  3.0  1.0  2.0   \n",
       "\n",
       "Semana                                                 8    9  \n",
       "Agencia_ID Canal_ID Ruta_SAK Cliente_ID Producto_ID            \n",
       "1110       7        3301     15766      325          0.0  0.0  \n",
       "                                        328          0.0  0.0  \n",
       "                                        1212         4.0  1.0  \n",
       "                                        1216         5.0  0.0  "
      ]
     },
     "execution_count": 131,
     "metadata": {},
     "output_type": "execute_result"
    }
   ],
   "source": [
    "df_ventas_pivot.head(1+3)"
   ]
  },
  {
   "cell_type": "code",
   "execution_count": 192,
   "metadata": {},
   "outputs": [
    {
     "data": {
      "text/plain": [
       "array([10, 11])"
      ]
     },
     "execution_count": 192,
     "metadata": {},
     "output_type": "execute_result"
    }
   ],
   "source": [
    "np.arange(max(df_ventas_pivot.columns)+1,max(df_ventas_pivot.columns)+3)"
   ]
  },
  {
   "cell_type": "code",
   "execution_count": 219,
   "metadata": {},
   "outputs": [
    {
     "name": "stdout",
     "output_type": "stream",
     "text": [
      "0.526896950646487\n"
     ]
    },
    {
     "data": {
      "text/plain": [
       "array([22.11, 21.14])"
      ]
     },
     "execution_count": 219,
     "metadata": {},
     "output_type": "execute_result"
    }
   ],
   "source": [
    "import numpy as np\n",
    "import pandas as pd\n",
    "from sklearn.ensemble import RandomForestRegressor\n",
    "from skforecast.ForecasterAutoreg import ForecasterAutoreg\n",
    "from sklearn.linear_model import LinearRegression\n",
    "\n",
    "\n",
    "y_true = np.array([10, 5, 11, 4, 12, 4])\n",
    "\n",
    "def rf_pred(y_true,periodos):\n",
    "    y_series = pd.Series(y_true)\n",
    "    model = RandomForestRegressor(n_estimators=100, random_state=42)\n",
    "    forecaster_rf = ForecasterAutoreg(regressor=model,lags=periodos)\n",
    "    forecaster_rf.fit(y=y_series)\n",
    "    y_pred = forecaster_rf.predict(steps=periodos)\n",
    "    return np.array([y_pred.iloc[0],y_pred.iloc[1]])\n",
    "\n",
    "def rl_pred(y_true, periodos):\n",
    "    y_series = np.array(y_true\n",
    "    model = LinearRegression()\n",
    "    periodos_pasados = np.arange(1, len(y_true)+1).reshape(-1, 1)\n",
    "    model.fit(periodos_pasados, y_series)\n",
    "    periodos_futuros = np.arange(len(y_true) + 1, len(y_true) + periodos + 1).reshape(-1, 1)\n",
    "    y_pred = model.predict(periodos_futuros)\n",
    "    return y_pred\n",
    "\n",
    "\n",
    "def revisar_linealidad(y_true,periodos):\n",
    "    cof_coerr = np.corrcoef(y_true,df_ventas_pivot.columns)[0][1]\n",
    "    print(cof_coerr)\n",
    "    if cof_coerr > 0.75:\n",
    "        return rl_pred(y_true,periodos)\n",
    "    else:\n",
    "        return rf_pred(y_true,periodos)\n",
    "    \n",
    "y_true=df_ventas_pivot.iloc[4]\n",
    "y_true = np.array([10, 5, 11, 15, 30, 10,19])\n",
    "revisar_linealidad(y_true,2)"
   ]
  },
  {
   "cell_type": "code",
   "execution_count": 130,
   "metadata": {},
   "outputs": [
    {
     "name": "stdout",
     "output_type": "stream",
     "text": [
      "7.666666666666667\n",
      "p = 0 q = 0 MSE = 11.555555555578627\n",
      "Modelo ARIMA( 0 , 0, 0 ) - Parámetros: [ 7.66666186 11.55552006]\n",
      "Predicciones: [7.66666186 7.66666186 7.66666186 7.66666186 7.66666186 7.66666186]\n",
      "-------------------------\n",
      "[10.          7.66666186 15.33332373 22.99998559 30.66664745 38.33330932\n",
      " 45.99997118]\n",
      "p = 0 q = 1 MSE = 4.342740015582335\n",
      "Modelo ARIMA( 0 , 0, 1 ) - Parámetros: [ 7.74995059 -0.99874014  3.18819904]\n",
      "Predicciones: [7.74995059 6.62492678 8.83323368 6.12487887 9.44984963 5.62483148]\n",
      "-------------------------\n",
      "[10.          7.74995059 14.37487738 23.20811106 29.33298992 38.78283955\n",
      " 44.40767103]\n",
      "p = 0 q = 2 MSE = 2.172595053032902\n",
      "Modelo ARIMA( 0 , 0, 2 ) - Parámetros: [ 7.77812197 -1.71768164  0.99971527  0.99586478]\n",
      "Predicciones: [ 7.77812197  6.2362864   9.54739072  5.40734068 10.60320466  4.72712142]\n",
      "-------------------------\n",
      "[10.          7.77812197 14.01440837 23.56179909 28.96913977 39.57234443\n",
      " 44.29946586]\n",
      "p = 1 q = 0 MSE = 1.0259163854338147\n",
      "Modelo ARIMA( 1 , 0, 0 ) - Parámetros: [ 7.79900924 -0.98773871  0.23819573]\n",
      "Predicciones: [ 7.79900924  5.62500545 10.56369902  4.63726674 11.55143773  3.64952802]\n",
      "-------------------------\n",
      "[10.          7.79900924 13.42401469 23.98771371 28.62498044 40.17641817\n",
      " 43.8259462 ]\n",
      "p = 1 q = 1 MSE = 0.9529446976538635\n",
      "Modelo ARIMA( 1 , 0, 1 ) - Parámetros: [ 7.79911118 -0.97427896 -0.99898458  0.10497625]\n",
      "Predicciones: [ 7.79911118  5.62652695 10.84151703  4.57466891 11.93197284  3.65181659]\n",
      "-------------------------\n",
      "[10.          7.79911118 13.42563813 24.26715516 28.84182406 40.77379691\n",
      " 44.4256135 ]\n",
      "p = 1 q = 2 MSE = 0.9436170232067501\n",
      "Modelo ARIMA( 1 , 0, 2 ) - Parámetros: [ 7.79609308 -0.94129065 -1.83646587  0.9926741   0.05443507]\n",
      "Predicciones: [ 7.79609308  5.63919167 10.8922762   4.54463288 12.1027209   3.72224207]\n",
      "-------------------------\n",
      "[10.          7.79609308 13.43528476 24.32756096 28.87219384 40.97491474\n",
      " 44.69715681]\n",
      "p = 2 q = 0 MSE = 0.9546208603188678\n",
      "Modelo ARIMA( 2 , 0, 0 ) - Parámetros: [ 7.80826353 -1.80829296 -0.87134354  0.10645894]\n",
      "Predicciones: [ 7.80826353  5.69037253 10.97667127  4.48363121 11.91362069  3.54668179]\n",
      "-------------------------\n",
      "[10.          7.80826353 13.49863606 24.47530733 28.95893854 40.87255923\n",
      " 44.41924102]\n",
      "p = 2 q = 1 MSE = 0.9460308853948157\n",
      "Modelo ARIMA( 2 , 0, 1 ) - Parámetros: [ 7.79777279 -1.69378458 -0.77517753 -0.99476536  0.05906202]\n",
      "Predicciones: [ 7.79777279  5.68516854 10.90809996  4.49391427 12.08417408  3.68784219]\n",
      "-------------------------\n",
      "[10.          7.79777279 13.48294133 24.39104129 28.88495557 40.96912965\n",
      " 44.65697184]\n",
      "p = 2 q = 2 MSE = 0.9487403583572664\n",
      "Modelo ARIMA( 2 , 0, 2 ) - Parámetros: [ 7.79345172 -1.52614711 -0.62964583 -1.7881859   0.93293728  0.03527623]\n",
      "Predicciones: [ 7.79345172  5.68940894 10.85169781  4.50069461 12.1513727   3.77043561]\n",
      "-------------------------\n",
      "[10.          7.79345172 13.48286066 24.33455847 28.83525309 40.98662579\n",
      " 44.7570614 ]\n"
     ]
    }
   ],
   "source": [
    "import numpy as np\n",
    "from statsmodels.tsa.arima.model import ARIMA\n",
    "from sklearn.metrics import mean_squared_error\n",
    "import warnings\n",
    "\n",
    "\n",
    "warnings.simplefilter(\"ignore\")\n",
    "\n",
    "pes = range(3)\n",
    "qes = range(3)\n",
    "\n",
    "y_true = np.array([10, 5, 11, 4, 12, 4])\n",
    "\n",
    "print(y_true.mean())\n",
    "# Ajustar el modelo ARIMA y calcular MSE intramuestra\n",
    "for p in pes:\n",
    "    for q in qes:\n",
    "        try:\n",
    "            modelo = ARIMA(y_true, order=(p, 0, q)).fit()\n",
    "            y_pred = modelo.predict(start=0, end=len(y_true)-1,warnings=False)\n",
    "            mse = mean_squared_error(y_true, y_pred)            \n",
    "            print(\"p =\", p, \"q =\", q, \"MSE =\", mse)\n",
    "            print(\"Modelo ARIMA(\", p, \", 0,\", q, \") - Parámetros:\", modelo.params)\n",
    "            print(\"Predicciones:\", y_pred)\n",
    "            print(\"-------------------------\")\n",
    "            print(np.concatenate([[y_true[0]], np.cumsum(y_pred)]))\n",
    "        except:\n",
    "            print(\"No se pudo ajustar ARIMA(\", p, \", 0,\", q, \")\")\n"
   ]
  }
 ],
 "metadata": {
  "kernelspec": {
   "display_name": "Python 3",
   "language": "python",
   "name": "python3"
  },
  "language_info": {
   "codemirror_mode": {
    "name": "ipython",
    "version": 3
   },
   "file_extension": ".py",
   "mimetype": "text/x-python",
   "name": "python",
   "nbconvert_exporter": "python",
   "pygments_lexer": "ipython3",
   "version": "3.9.12"
  }
 },
 "nbformat": 4,
 "nbformat_minor": 2
}
