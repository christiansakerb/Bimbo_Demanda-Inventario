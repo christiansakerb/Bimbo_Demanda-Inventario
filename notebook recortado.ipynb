{
 "cells": [
  {
   "cell_type": "markdown",
   "metadata": {},
   "source": [
    "Librerías"
   ]
  },
  {
   "cell_type": "code",
   "execution_count": 1,
   "metadata": {},
   "outputs": [],
   "source": [
    "import pandas as pd\n",
    "import numpy as np\n",
    "import matplotlib.pyplot as plt\n",
    "import seaborn as sns\n",
    "import sys\n",
    "import pickle\n",
    "import psutil"
   ]
  },
  {
   "cell_type": "markdown",
   "metadata": {},
   "source": [
    "Carga de datos"
   ]
  },
  {
   "cell_type": "code",
   "execution_count": 71,
   "metadata": {},
   "outputs": [],
   "source": [
    "clientes = pd.read_csv('cliente_tabla.csv')\n",
    "productos = pd.read_csv('producto_tabla.csv')\n",
    "#sample_submission = pd.read_csv('sample_submission.csv')\n",
    "town_state  = pd.read_csv('town_state.csv')"
   ]
  },
  {
   "cell_type": "code",
   "execution_count": 3,
   "metadata": {},
   "outputs": [],
   "source": [
    "train = pd.read_csv('train.csv')"
   ]
  },
  {
   "cell_type": "markdown",
   "metadata": {},
   "source": [
    "Para hacer seguimiento a la memoria"
   ]
  },
  {
   "cell_type": "code",
   "execution_count": 4,
   "metadata": {},
   "outputs": [],
   "source": [
    "def variables_por_tamaño():\n",
    "    variables = {k: sys.getsizeof(v) for k, v in globals().items() if not k.startswith('_')}\n",
    "    \n",
    "    variables_en_gb = {k: v / 1024**3 for k, v in variables.items()}\n",
    "    \n",
    "    tipos_variables = {k: type(v).__name__ for k, v in globals().items() if not k.startswith('_')}\n",
    "    \n",
    "    df = pd.DataFrame({'Variable': list(variables_en_gb.keys()),\n",
    "                       'Tipo': list(tipos_variables.values()),\n",
    "                       'Tamaño_GB': list(variables_en_gb.values())})\n",
    "    \n",
    "    df = df.sort_values('Tamaño_GB', ascending=False).reset_index(drop=True)\n",
    "    \n",
    "    # Mostrar la memoria disponible\n",
    "    memoria_disponible()\n",
    "    \n",
    "    return df\n",
    "\n",
    "\n",
    "\n",
    "def Gb_por_variable(variable):\n",
    "    print(sys.getsizeof(variable)/(1024**3))\n",
    "    memoria_disponible()\n",
    "\n",
    "def memoria_disponible():\n",
    "    mem = psutil.virtual_memory()\n",
    "    mem_total_gb = mem.total / (1024 ** 3)  # Memoria total en GB\n",
    "    mem_disponible_gb = mem.available / (1024 ** 3)  # Memoria disponible en GB\n",
    "\n",
    "    print(\"Memoria Total:\", mem_total_gb, \"GB\")\n",
    "    print(\"Memoria Disponible:\", mem_disponible_gb, \"GB\")\n"
   ]
  },
  {
   "cell_type": "code",
   "execution_count": 5,
   "metadata": {},
   "outputs": [],
   "source": [
    "df_ventas_pivot = pd.pivot_table(data=train,\n",
    "                                 index=['Agencia_ID','Canal_ID','Ruta_SAK','Cliente_ID','Producto_ID'],\n",
    "                                 columns='Semana',\n",
    "                                 values='Venta_uni_hoy').fillna(0)\n",
    "\n",
    "nombre_archivo = 'Pkl/df_ventas_pivot.pkl'\n",
    "with open(nombre_archivo, 'wb') as archivo_pkl:\n",
    "    pickle.dump(df_ventas_pivot, archivo_pkl)"
   ]
  },
  {
   "cell_type": "code",
   "execution_count": 6,
   "metadata": {},
   "outputs": [],
   "source": [
    "df_devoluciones_pivot = pd.pivot_table(data=train,\n",
    "                                 index=['Agencia_ID','Canal_ID','Ruta_SAK','Cliente_ID','Producto_ID'],\n",
    "                                 columns='Semana',\n",
    "                                 values='Dev_uni_proxima').fillna(0) \n",
    "\n",
    "nombre_archivo = 'Pkl/df_devoluciones_pivot.pkl'\n",
    "with open(nombre_archivo, 'wb') as archivo_pkl:\n",
    "    pickle.dump(df_devoluciones_pivot, archivo_pkl)"
   ]
  },
  {
   "cell_type": "code",
   "execution_count": 14,
   "metadata": {},
   "outputs": [],
   "source": [
    "del train"
   ]
  },
  {
   "cell_type": "markdown",
   "metadata": {},
   "source": [
    "Para Modelar Unds Vendidas"
   ]
  },
  {
   "cell_type": "code",
   "execution_count": 7,
   "metadata": {},
   "outputs": [
    {
     "data": {
      "text/plain": [
       "((1110, 7, 3301, 15766, 1250),\n",
       " [10, 10, 11, 0.5439433649162874, 0.0081269177815803])"
      ]
     },
     "execution_count": 7,
     "metadata": {},
     "output_type": "execute_result"
    }
   ],
   "source": [
    "import numpy as np\n",
    "import pandas as pd\n",
    "from sklearn.ensemble import RandomForestRegressor\n",
    "from skforecast.ForecasterAutoreg import ForecasterAutoreg\n",
    "from sklearn.linear_model import LinearRegression\n",
    "from sklearn.metrics import mean_squared_error\n",
    "\n",
    "def rf_pred(y_true,periodos):\n",
    "    y_series = pd.Series(y_true)\n",
    "    model = RandomForestRegressor(n_estimators=100, random_state=42)\n",
    "    forecaster_rf = ForecasterAutoreg(regressor=model,lags=periodos)\n",
    "    forecaster_rf.fit(y=y_series)\n",
    "    y_pred = forecaster_rf.predict(steps=periodos)\n",
    "    return np.array(y_pred)\n",
    "\n",
    "def rl_pred(y_true, periodos):\n",
    "    y_series = np.array(y_true)\n",
    "    model = LinearRegression()\n",
    "    periodos_pasados = np.arange(1, len(y_true)+1).reshape(-1, 1)\n",
    "    model.fit(periodos_pasados, y_series)\n",
    "    periodos_futuros = np.arange(len(y_true) + 1, len(y_true) + periodos + 1).reshape(-1, 1)\n",
    "    y_pred = model.predict(periodos_futuros)\n",
    "    return y_pred\n",
    "\n",
    "def calcular_MSE(y_true,y_pred):\n",
    "    return np.mean((y_true - y_pred)**2)\n",
    "\n",
    "def plot(y_true,y_pred,aplica):\n",
    "    \n",
    "    if aplica =='S':\n",
    "        print(y_true)\n",
    "        plt.plot(np.concatenate((y_true, y_pred)))\n",
    "        plt.show()\n",
    "    \n",
    "def revisar_linealidad(df,id,periodos,graph='N'):\n",
    "    y_true = df.iloc[id].to_numpy()\n",
    "    \n",
    "    y_train = y_true[:y_true.shape[0]-1]\n",
    "    y_test = y_true[y_true.shape[0]-1]\n",
    "    \n",
    "    cof_coerr = np.abs(np.corrcoef(y_true,df_ventas_pivot.columns)[0][1]) #Correlación positiva\n",
    "    id_name = df_ventas_pivot.index[id]\n",
    "\n",
    "\n",
    "    if cof_coerr > 0.75: #Solo regresion Lineal\n",
    "        pred= rl_pred(y_train,periodos)\n",
    "    if cof_coerr > 0.5: #Combinación regresion Lineal & RandomForest\n",
    "        pred= ((rl_pred(y_train,periodos) * cof_coerr) + (rf_pred(y_train,periodos) * cof_coerr))\n",
    "    else: #Solo RandomForest\n",
    "        pred= rf_pred(y_train,periodos)\n",
    "\n",
    "    pred = np.clip(pred, a_min=0, a_max=None)\n",
    "\n",
    "    plot(y_true,pred,aplica=graph)    \n",
    "    lista_preds = list(pred.astype('int'))\n",
    "    lista_preds.append(cof_coerr)\n",
    "    lista_preds.append(calcular_MSE(y_test,pred[0]))\n",
    "    return id_name,lista_preds\n",
    "\n",
    "revisar_linealidad(df_ventas_pivot,8,3,graph='N')"
   ]
  },
  {
   "cell_type": "code",
   "execution_count": null,
   "metadata": {},
   "outputs": [],
   "source": [
    "lista_proyecciones = []\n",
    "for num,codigo in enumerate(df_ventas_pivot.index):\n",
    "    print(num/df_ventas_pivot.shape[0])\n",
    "    lista_proyecciones.append(revisar_linealidad(df_ventas_pivot,num,3))"
   ]
  },
  {
   "cell_type": "markdown",
   "metadata": {},
   "source": [
    "Base de datos test"
   ]
  },
  {
   "cell_type": "code",
   "execution_count": 8,
   "metadata": {},
   "outputs": [],
   "source": [
    "test  = pd.read_csv('test.csv')\n",
    "test_pivot = pd.pivot_table(data=test,\n",
    "                                 index=['Agencia_ID','Canal_ID','Ruta_SAK','Cliente_ID','Producto_ID'],\n",
    "                                 columns='Semana',\n",
    "                                 values='Semana')"
   ]
  },
  {
   "cell_type": "markdown",
   "metadata": {},
   "source": [
    "Indices faltantes total"
   ]
  },
  {
   "cell_type": "code",
   "execution_count": 9,
   "metadata": {},
   "outputs": [
    {
     "data": {
      "text/plain": [
       "(1355454,)"
      ]
     },
     "execution_count": 9,
     "metadata": {},
     "output_type": "execute_result"
    }
   ],
   "source": [
    "indices_train = df_ventas_pivot.index\n",
    "indices_test = test_pivot.index\n",
    "\n",
    "indices_faltantes_total = indices_test.difference(indices_train)\n",
    "indices_faltantes_total.shape"
   ]
  },
  {
   "cell_type": "code",
   "execution_count": 10,
   "metadata": {},
   "outputs": [
    {
     "name": "stdout",
     "output_type": "stream",
     "text": [
      "Agencia_ID []\n",
      "Canal_ID []\n",
      "Ruta_SAK [1823 3555 3556 3557 3558 3801 3803 4559 6148 6162 7433 7775 8044 8189\n",
      " 9349 9562 9585]\n",
      "Cliente_ID [   2683    5380    5707 ... 9746104 9747048 9780515]\n",
      "Producto_ID [   98 31203 31211 31655 32026 32224 32421 32591 32798 32820 33053 35191\n",
      " 35246 36524 36673 37202 37362 37404 37405 37494 37495 37496 37610 37617\n",
      " 37618 37620 37626 37688 37702 37745 42323 46064 46131 48217]\n"
     ]
    }
   ],
   "source": [
    "Diccionario_faltantes={}\n",
    "def verificar_agencias(col):\n",
    "    indices_izq = test_pivot.reset_index()[col].unique()\n",
    "    indices_der = df_ventas_pivot.reset_index()[col].unique()\n",
    "\n",
    "    faltantes= np.setdiff1d(indices_izq, indices_der)\n",
    "\n",
    "    Diccionario_faltantes[col]=faltantes\n",
    "    print(col,str(faltantes))\n",
    "\n",
    "\n",
    "for col in ['Agencia_ID','Canal_ID','Ruta_SAK','Cliente_ID','Producto_ID']:\n",
    "    verificar_agencias(col)\n",
    "\n",
    "#np.setdiff1d(Diccionario_faltantes['Producto_ID'],productos['Producto_ID'].unique())"
   ]
  },
  {
   "cell_type": "code",
   "execution_count": 322,
   "metadata": {},
   "outputs": [
    {
     "data": {
      "text/plain": [
       "[4190511]"
      ]
     },
     "execution_count": 322,
     "metadata": {},
     "output_type": "execute_result"
    }
   ],
   "source": [
    "columnas_per_level={'Agencia_ID':0,'Canal_ID':1,'Ruta_SAK':2,'Cliente_ID':3,'Producto_ID':4}\n",
    "\n",
    "def buscar_un_registro(df,indices_lista,col,prod_id):\n",
    "    indx = df.xs(prod_id,  level=columnas_per_level[col], drop_level=False).index    \n",
    "    lista_ixs=[]\n",
    "    lista_ixs_solo=[]\n",
    "    for ix in indx:\n",
    "        lista_ixs.append({indices_lista.get_loc(ix):ix})\n",
    "        lista_ixs_solo.append(indices_lista.get_loc(ix))\n",
    "    return lista_ixs,lista_ixs_solo\n",
    "\n",
    "buscar_un_registro(test_pivot,indices_test,'Cliente_ID',2683)[1][:5]\n",
    "#buscar_un_registro(df_ventas_pivot,indices_train,'Producto_ID',36332)[1][:5]"
   ]
  },
  {
   "cell_type": "markdown",
   "metadata": {},
   "source": [
    "Nombres similares"
   ]
  },
  {
   "cell_type": "markdown",
   "metadata": {},
   "source": [
    "Ajuste de nombres de productos"
   ]
  },
  {
   "cell_type": "code",
   "execution_count": null,
   "metadata": {},
   "outputs": [],
   "source": [
    "archivo= 'Pkl/Cluster_info.pkl'\n",
    "# Cargar el DataFrame desde el archivo .pkl\n",
    "with open(archivo, 'rb') as archivo_pkl:\n",
    "    Cluster_info = pickle.load(archivo_pkl)"
   ]
  },
  {
   "cell_type": "code",
   "execution_count": 72,
   "metadata": {},
   "outputs": [],
   "source": [
    "from sklearn.feature_extraction.text import CountVectorizer\n",
    "import re\n",
    "from sklearn.metrics.pairwise import cosine_similarity\n",
    "\n",
    "\n",
    "def limpiar_texto(texto):\n",
    "    texto_limpio = re.sub(r'\\b\\w{1,2}\\b|\\d+', '', texto.lower())\n",
    "    return texto_limpio\n",
    "\n",
    "productos['NombreProductoLimpio'] = productos['NombreProducto'].apply(limpiar_texto)\n",
    "productos['NombreProductoLimpio'] = productos['NombreProductoLimpio'].apply(limpiar_texto)\n",
    "productos = productos.merge(Cluster_info[0],how='left',on='Producto_ID').fillna(9999)\n",
    "\n",
    "vectorizer = CountVectorizer()\n",
    "X = vectorizer.fit_transform(productos['NombreProductoLimpio'])\n",
    "count_df = pd.DataFrame(X.toarray(), columns=vectorizer.get_feature_names_out(),index=productos['Producto_ID'])\n",
    "similaridades = cosine_similarity(count_df)"
   ]
  },
  {
   "cell_type": "markdown",
   "metadata": {},
   "source": [
    "Buscar ids"
   ]
  },
  {
   "cell_type": "code",
   "execution_count": null,
   "metadata": {},
   "outputs": [],
   "source": [
    "def Productos_similares(id_a_buscar,graph='N'):\n",
    "    similares = similaridades[productos[productos['Producto_ID'] == id_a_buscar].index]\n",
    "    similares_df = pd.DataFrame(similares.T, index=productos['Producto_ID'], columns=['Similitud'])\n",
    "    productos_similares = similares_df[similares_df.index != id_a_buscar].sort_values(by='Similitud', ascending=False).head(20)\n",
    "    \n",
    "    productos_filtrados = productos[productos['Producto_ID'].isin(productos_similares.head(20).index)]\n",
    "    productos_filtrados = productos_filtrados[productos_filtrados['Cluster']<100]\n",
    "\n",
    "    if graph=='S':\n",
    "        display(productos[productos['Producto_ID']==id_a_buscar])\n",
    "        display(productos[productos['Producto_ID'].isin(productos_similares.index)])\n",
    "        display(productos_filtrados)\n",
    "\n",
    "    return productos_filtrados['Producto_ID'].to_numpy()\n",
    "\n",
    "\n",
    "Productos_similares(31655,graph='S')"
   ]
  },
  {
   "cell_type": "code",
   "execution_count": 307,
   "metadata": {},
   "outputs": [
    {
     "data": {
      "text/html": [
       "<div>\n",
       "<style scoped>\n",
       "    .dataframe tbody tr th:only-of-type {\n",
       "        vertical-align: middle;\n",
       "    }\n",
       "\n",
       "    .dataframe tbody tr th {\n",
       "        vertical-align: top;\n",
       "    }\n",
       "\n",
       "    .dataframe thead th {\n",
       "        text-align: right;\n",
       "    }\n",
       "</style>\n",
       "<table border=\"1\" class=\"dataframe\">\n",
       "  <thead>\n",
       "    <tr style=\"text-align: right;\">\n",
       "      <th></th>\n",
       "      <th>Similitud</th>\n",
       "    </tr>\n",
       "  </thead>\n",
       "  <tbody>\n",
       "    <tr>\n",
       "      <th>9999999999999</th>\n",
       "      <td>1.00</td>\n",
       "    </tr>\n",
       "    <tr>\n",
       "      <th>11442737</th>\n",
       "      <td>0.25</td>\n",
       "    </tr>\n",
       "    <tr>\n",
       "      <th>11442738</th>\n",
       "      <td>0.25</td>\n",
       "    </tr>\n",
       "    <tr>\n",
       "      <th>25391077</th>\n",
       "      <td>0.25</td>\n",
       "    </tr>\n",
       "    <tr>\n",
       "      <th>17039631</th>\n",
       "      <td>0.00</td>\n",
       "    </tr>\n",
       "    <tr>\n",
       "      <th>17039659</th>\n",
       "      <td>0.00</td>\n",
       "    </tr>\n",
       "    <tr>\n",
       "      <th>17039662</th>\n",
       "      <td>0.00</td>\n",
       "    </tr>\n",
       "    <tr>\n",
       "      <th>17039664</th>\n",
       "      <td>0.00</td>\n",
       "    </tr>\n",
       "    <tr>\n",
       "      <th>17039688</th>\n",
       "      <td>0.00</td>\n",
       "    </tr>\n",
       "    <tr>\n",
       "      <th>17039713</th>\n",
       "      <td>0.00</td>\n",
       "    </tr>\n",
       "    <tr>\n",
       "      <th>17039714</th>\n",
       "      <td>0.00</td>\n",
       "    </tr>\n",
       "    <tr>\n",
       "      <th>17039720</th>\n",
       "      <td>0.00</td>\n",
       "    </tr>\n",
       "    <tr>\n",
       "      <th>17039732</th>\n",
       "      <td>0.00</td>\n",
       "    </tr>\n",
       "    <tr>\n",
       "      <th>17039741</th>\n",
       "      <td>0.00</td>\n",
       "    </tr>\n",
       "    <tr>\n",
       "      <th>17039767</th>\n",
       "      <td>0.00</td>\n",
       "    </tr>\n",
       "    <tr>\n",
       "      <th>17039784</th>\n",
       "      <td>0.00</td>\n",
       "    </tr>\n",
       "    <tr>\n",
       "      <th>17039812</th>\n",
       "      <td>0.00</td>\n",
       "    </tr>\n",
       "    <tr>\n",
       "      <th>17039820</th>\n",
       "      <td>0.00</td>\n",
       "    </tr>\n",
       "    <tr>\n",
       "      <th>17039846</th>\n",
       "      <td>0.00</td>\n",
       "    </tr>\n",
       "    <tr>\n",
       "      <th>17039871</th>\n",
       "      <td>0.00</td>\n",
       "    </tr>\n",
       "  </tbody>\n",
       "</table>\n",
       "</div>"
      ],
      "text/plain": [
       "               Similitud\n",
       "9999999999999       1.00\n",
       "11442737            0.25\n",
       "11442738            0.25\n",
       "25391077            0.25\n",
       "17039631            0.00\n",
       "17039659            0.00\n",
       "17039662            0.00\n",
       "17039664            0.00\n",
       "17039688            0.00\n",
       "17039713            0.00\n",
       "17039714            0.00\n",
       "17039720            0.00\n",
       "17039732            0.00\n",
       "17039741            0.00\n",
       "17039767            0.00\n",
       "17039784            0.00\n",
       "17039812            0.00\n",
       "17039820            0.00\n",
       "17039846            0.00\n",
       "17039871            0.00"
      ]
     },
     "execution_count": 307,
     "metadata": {},
     "output_type": "execute_result"
    }
   ],
   "source": [
    "def Crear_Matriz_Para_Similaridad(id_clave):\n",
    "    tupla = test_pivot.iloc[id_clave].name\n",
    "    Dict_nombres = {}\n",
    "    Dict_nombres['Producto_ID']=tupla[4]\n",
    "\n",
    "    ids_productos = Productos_similares(Dict_nombres['Producto_ID'],graph='N')\n",
    "\n",
    "    #Cluster preferido\n",
    "    Cluster_moda = Cluster_info[0].loc[ids_productos].groupby('Cluster')['Cluster'].count().sort_values(ascending=False).index[0]\n",
    "    #Todos los productos del cluster preferido\n",
    "    Indices_del_cluster_moda = Cluster_info[0][Cluster_info[0]['Cluster']==Cluster_moda].index\n",
    "    \n",
    "    \n",
    "    df_filtrado =  df_ventas_pivot.reset_index()[df_ventas_pivot.reset_index()['Producto_ID'].isin(Indices_del_cluster_moda)][['Agencia_ID','Canal_ID','Ruta_SAK','Cliente_ID','Producto_ID']]\n",
    "    \n",
    "    nueva_fila = pd.DataFrame({\n",
    "        'Agencia_ID': tupla[0],\n",
    "        'Canal_ID': tupla[1],\n",
    "        'Ruta_SAK': tupla[2],\n",
    "        'Cliente_ID': tupla[3],\n",
    "        'Producto_ID': tupla[4]\n",
    "    },index=[9999999999999])\n",
    "    \n",
    "    df_filtrado = pd.concat([df_filtrado,nueva_fila],axis=0)\n",
    "    df_filtrado['Clave'] = df_filtrado.apply(lambda row: f\"{row['Agencia_ID']} {row['Canal_ID']} {row['Ruta_SAK']} {row['Cliente_ID']} {row['Producto_ID']}\", axis=1)\n",
    "    df_filtrado = df_filtrado.drop(columns=['Agencia_ID','Canal_ID','Ruta_SAK','Cliente_ID','Producto_ID'])\n",
    "\n",
    "\n",
    "    return df_filtrado#.set_index(indices_claves)\n",
    "\n",
    "\n",
    "def Similaridad_entre_registros(df):\n",
    "    vectorizer = CountVectorizer()\n",
    "    X = vectorizer.fit_transform(df['Clave'])\n",
    "    count_df = pd.DataFrame(X.toarray(), columns=vectorizer.get_feature_names_out(),index=df.index)\n",
    "    similaridades = cosine_similarity(count_df)\n",
    "    df_Similiares = pd.DataFrame(similaridades_2[similaridades_2.shape[0]-1].T,index=df.index,columns=['Similitud'])\n",
    "    df_Similiares = df_Similiares.sort_values(by='Similitud', ascending=False).head(20)\n",
    "\n",
    "    return df_Similiares\n",
    "\n",
    "Similaridad_entre_registros(Crear_Matriz_Para_Similaridad(2807162))\n",
    "\n"
   ]
  },
  {
   "cell_type": "code",
   "execution_count": 321,
   "metadata": {},
   "outputs": [
    {
     "name": "stdout",
     "output_type": "stream",
     "text": [
      "[[190, 199], [0, 0], [78, 78], [0, 0], [0, 2], [0, 0], [6, 4], [55, 53], [0, 0], [0, 0], [0, 0]]\n"
     ]
    },
    {
     "data": {
      "text/plain": [
       "array([[30., 31.]])"
      ]
     },
     "execution_count": 321,
     "metadata": {},
     "output_type": "execute_result"
    }
   ],
   "source": [
    "import warnings\n",
    "warnings.filterwarnings(\"ignore\")\n",
    "\n",
    "\n",
    "def Predict_test(df,num):\n",
    "    \n",
    "    Dict_nombres = {}\n",
    "    index_de_test = df.iloc[num].name\n",
    "\n",
    "    Dict_nombres['Agencia_ID']=index_de_test[0]\n",
    "    Dict_nombres['Canal_ID']=index_de_test[1]\n",
    "    Dict_nombres['Ruta_SAK']=index_de_test[2]\n",
    "    Dict_nombres['Cliente_ID']=index_de_test[3]\n",
    "    Dict_nombres['Producto_ID']=index_de_test[4]\n",
    "\n",
    "    if index_de_test in indices_faltantes_total:\n",
    "        #Verificar que el producto SI EXISTA\n",
    "        if Dict_nombres['Producto_ID'] not in Diccionario_faltantes['Producto_ID']:\n",
    "            1\n",
    "        #Si no existe la tupla verificamos si existe el id producto en train\n",
    "        else:\n",
    "            \n",
    "            #Si no existe el id producto buscamos el similar por distancia de coseno\n",
    "            ids_similares = Productos_similares(Dict_nombres['Producto_ID'],graph='N')\n",
    "            #Revisamos cada uno de los resultados\n",
    "            lista_resultados_similares=[]\n",
    "            \n",
    "            for ids_sim in ids_similares:\n",
    "                #Creamos la nueva tupla con los ids similares\n",
    "                tuple_id_sim = (Dict_nombres['Agencia_ID'],Dict_nombres['Canal_ID'],Dict_nombres['Ruta_SAK'],Dict_nombres['Cliente_ID'],ids_sim)\n",
    "                \n",
    "                if tuple_id_sim in indices_train:\n",
    "                    lista_resultados_similares.append(revisar_linealidad(df_ventas_pivot,indices_train.get_loc(tuple_id_sim),3,graph='N')[1][1:3])\n",
    "                \n",
    "            #Si encontró valores usaremos esos\n",
    "            if len(lista_resultados_similares)>0:\n",
    "                print(lista_resultados_similares)\n",
    "                return np.round(np.array([lista_resultados_similares]).mean(axis=1))\n",
    "                \n",
    "\n",
    "            #Si no, vamos a generalizar con los productos que hay\n",
    "            else:\n",
    "                \n",
    "                for ids_sim in ids_similares:\n",
    "                    id_base = buscar_un_registro(df_ventas_pivot,indices_train,'Producto_ID',ids_sim)[1][0]\n",
    "                    lista_resultados_similares.append(revisar_linealidad(df_ventas_pivot,id_base,3,graph='N')[1][1:3])\n",
    "                print(lista_resultados_similares)\n",
    "                return  np.round(np.array([lista_resultados_similares]).mean(axis=1))\n",
    "                #Promediar los resultados obtenidos de los productos más similares\n",
    "                    \n",
    "    else:\n",
    "        return revisar_linealidad(df_ventas_pivot,indices_train.get_loc(index_de_test),3,graph='N')[1][1:3]\n",
    "    \n",
    "Predict_test(test_pivot,2807162)#6113671 [2806970, 2807091, 2807162, 2807273, 2807636]\n"
   ]
  },
  {
   "cell_type": "code",
   "execution_count": 721,
   "metadata": {},
   "outputs": [
    {
     "data": {
      "text/plain": [
       "False"
      ]
     },
     "execution_count": 721,
     "metadata": {},
     "output_type": "execute_result"
    }
   ],
   "source": [
    "(22560, 1, 1077, 801976, 1876) in indices_faltantes_total"
   ]
  },
  {
   "cell_type": "code",
   "execution_count": 719,
   "metadata": {},
   "outputs": [
    {
     "data": {
      "text/plain": [
       "MultiIndex([( 1110, 7, 3301,   50395,   713),\n",
       "            ( 1110, 7, 3301,   73589,  1644),\n",
       "            ( 1110, 7, 3301,  181232, 47336),\n",
       "            ( 1110, 7, 3301,  198780, 42869),\n",
       "            ( 1110, 7, 3301,  319641,   325),\n",
       "            ( 1110, 7, 3301,  319641,  1212),\n",
       "            ( 1110, 7, 3301,  319641,  1643),\n",
       "            ( 1110, 7, 3301,  319641, 31688),\n",
       "            ( 1110, 7, 3301,  319641, 32936),\n",
       "            ( 1110, 7, 3301,  319641, 32961),\n",
       "            ...\n",
       "            (25759, 1, 5517, 4483380, 30694),\n",
       "            (25759, 1, 5517, 4483380, 31005),\n",
       "            (25759, 1, 5517, 4483380, 34255),\n",
       "            (25759, 1, 5517, 4483380, 37024),\n",
       "            (25759, 1, 5517, 4528866, 35142),\n",
       "            (25759, 1, 5517, 4565941, 36164),\n",
       "            (25759, 1, 5517, 4565941, 37581),\n",
       "            (25759, 1, 5517, 4707699, 34226),\n",
       "            (25759, 1, 5517, 4707699, 36598),\n",
       "            (25759, 1, 5517, 4744611, 34255)],\n",
       "           names=['Agencia_ID', 'Canal_ID', 'Ruta_SAK', 'Cliente_ID', 'Producto_ID'], length=1355454)"
      ]
     },
     "execution_count": 719,
     "metadata": {},
     "output_type": "execute_result"
    }
   ],
   "source": [
    "indices_faltantes_total"
   ]
  }
 ],
 "metadata": {
  "kernelspec": {
   "display_name": "Python 3",
   "language": "python",
   "name": "python3"
  },
  "language_info": {
   "codemirror_mode": {
    "name": "ipython",
    "version": 3
   },
   "file_extension": ".py",
   "mimetype": "text/x-python",
   "name": "python",
   "nbconvert_exporter": "python",
   "pygments_lexer": "ipython3",
   "version": "3.9.12"
  }
 },
 "nbformat": 4,
 "nbformat_minor": 2
}
